{
 "cells": [
  {
   "cell_type": "code",
   "execution_count": 15,
   "id": "f5ac509c",
   "metadata": {},
   "outputs": [],
   "source": [
    "#packages and libraries\n",
    "import numpy as np\n",
    "import pandas as pd\n",
    "from sklearn.linear_model import LinearRegression\n",
    "import matplotlib.pyplot as plt"
   ]
  },
  {
   "cell_type": "code",
   "execution_count": 4,
   "id": "4f8bd8c5",
   "metadata": {},
   "outputs": [],
   "source": [
    "#taking data\n",
    "x=np.array([6,2,8,1,3,4]).reshape(-1,1)\n",
    "y=np.array([7,5,3,6,12,2])"
   ]
  },
  {
   "cell_type": "code",
   "execution_count": 8,
   "id": "dd12e26b",
   "metadata": {},
   "outputs": [
    {
     "name": "stdout",
     "output_type": "stream",
     "text": [
      "[[ 6. 36.]\n",
      " [ 2.  4.]\n",
      " [ 8. 64.]\n",
      " [ 1.  1.]\n",
      " [ 3.  9.]\n",
      " [ 4. 16.]]\n"
     ]
    }
   ],
   "source": [
    "from sklearn.preprocessing import PolynomialFeatures\n",
    "T=PolynomialFeatures(degree=2,include_bias=False)\n",
    "T.fit(x)\n",
    "x_=T.transform(x)\n",
    "model=LinearRegression(fit_intercept=False).fit(x_,y)\n",
    "print(x_)"
   ]
  },
  {
   "cell_type": "code",
   "execution_count": 10,
   "id": "70a9a20d",
   "metadata": {},
   "outputs": [],
   "source": [
    "#predicting y values for given x values (b0+(b1*x))\n",
    "y_pre=model.predict(x_)"
   ]
  },
  {
   "cell_type": "code",
   "execution_count": 11,
   "id": "f68371a5",
   "metadata": {},
   "outputs": [
    {
     "name": "stdout",
     "output_type": "stream",
     "text": [
      "predict score: 1.0\n",
      "normal score: -0.05668657424696821\n"
     ]
    }
   ],
   "source": [
    "print(\"predict score:\",model.score(x_,y_pre))\n",
    "print(\"normal score:\",model.score(x_,y))"
   ]
  },
  {
   "cell_type": "code",
   "execution_count": 12,
   "id": "3b348067",
   "metadata": {},
   "outputs": [
    {
     "name": "stdout",
     "output_type": "stream",
     "text": [
      "[6.71848329 5.50068408 2.43559841 3.15799075 7.02808001 7.74017851]\n",
      "[ 7  5  3  6 12  2]\n"
     ]
    }
   ],
   "source": [
    "print(y_pre)\n",
    "print(y)"
   ]
  },
  {
   "cell_type": "code",
   "execution_count": 14,
   "id": "f44161b3",
   "metadata": {},
   "outputs": [
    {
     "name": "stdout",
     "output_type": "stream",
     "text": [
      "bo 0.0\n",
      "b1 [ 3.56563946 -0.40764871]\n",
      "rechecked y predict values: [6.71848329 5.50068408 2.43559841 3.15799075 7.02808001 7.74017851]\n"
     ]
    }
   ],
   "source": [
    "#rechecking with formula (b0+(b1*x))\n",
    "print(\"bo\",model.intercept_)\n",
    "print(\"b1\",model.coef_)\n",
    "y_rc=model.intercept_+np.sum(model.coef_*x_,axis=1)\n",
    "print(\"rechecked y predict values:\",y_rc)"
   ]
  },
  {
   "cell_type": "code",
   "execution_count": 16,
   "id": "99d2d983",
   "metadata": {},
   "outputs": [
    {
     "data": {
      "text/plain": [
       "<matplotlib.collections.PathCollection at 0x17467846550>"
      ]
     },
     "execution_count": 16,
     "metadata": {},
     "output_type": "execute_result"
    },
    {
     "data": {
      "image/png": "[encoded data removed]",
      "text/plain": [
       "<Figure size 432x288 with 1 Axes>"
      ]
     },
     "metadata": {
      "needs_background": "light"
     },
     "output_type": "display_data"
    }
   ],
   "source": [
    "plt.scatter(x,y)"
   ]
  },
  {
   "cell_type": "code",
   "execution_count": 17,
   "id": "88315127",
   "metadata": {},
   "outputs": [
    {
     "data": {
      "text/plain": [
       "[<matplotlib.lines.Line2D at 0x174679612e0>]"
      ]
     },
     "execution_count": 17,
     "metadata": {},
     "output_type": "execute_result"
    },
    {
     "data": {
      "image/png": "[encoded data removed]",
      "text/plain": [
       "<Figure size 432x288 with 1 Axes>"
      ]
     },
     "metadata": {
      "needs_background": "light"
     },
     "output_type": "display_data"
    }
   ],
   "source": [
    "plt.plot(x,y_pre)"
   ]
  },
  {
   "cell_type": "code",
   "execution_count": null,
   "id": "6b311dd8",
   "metadata": {},
   "outputs": [],
   "source": []
  }
 ],
 "metadata": {
  "kernelspec": {
   "display_name": "Python 3 (ipykernel)",
   "language": "python",
   "name": "python3"
  },
  "language_info": {
   "codemirror_mode": {
    "name": "ipython",
    "version": 3
   },
   "file_extension": ".py",
   "mimetype": "text/x-python",
   "name": "python",
   "nbconvert_exporter": "python",
   "pygments_lexer": "ipython3",
   "version": "3.9.7"
  }
 },
 "nbformat": 4,
 "nbformat_minor": 5
}
