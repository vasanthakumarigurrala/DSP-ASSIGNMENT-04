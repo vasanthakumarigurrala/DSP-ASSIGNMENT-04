{
 "cells": [
  {
   "cell_type": "code",
   "execution_count": 9,
   "id": "29a6bbfd",
   "metadata": {},
   "outputs": [],
   "source": [
    "import pandas as pd\n",
    "import numpy as np\n",
    "from sklearn.linear_model import LinearRegression\n",
    "from sklearn.model_selection import train_test_split\n",
    "import matplotlib.pyplot as plt"
   ]
  },
  {
   "cell_type": "code",
   "execution_count": 2,
   "id": "05cfdfe3",
   "metadata": {},
   "outputs": [],
   "source": [
    "x=np.array([1,2,3,4,5,6,7,8,9,10]).reshape(-1,1)\n",
    "y=np.array([1,12,14,16,18,22,14,24,13,19])\n",
    "#split data into training and testing\n",
    "x_train,x_test,y_train,y_test=train_test_split(x,y)"
   ]
  },
  {
   "cell_type": "code",
   "execution_count": 3,
   "id": "650dcdef",
   "metadata": {},
   "outputs": [
    {
     "data": {
      "text/plain": [
       "LinearRegression()"
      ]
     },
     "execution_count": 3,
     "metadata": {},
     "output_type": "execute_result"
    }
   ],
   "source": [
    "#fitting model\n",
    "model=LinearRegression()\n",
    "model.fit(x_train,y_train)"
   ]
  },
  {
   "cell_type": "code",
   "execution_count": 4,
   "id": "7a80973c",
   "metadata": {},
   "outputs": [
    {
     "name": "stdout",
     "output_type": "stream",
     "text": [
      "x train [[10]\n",
      " [ 8]\n",
      " [ 4]\n",
      " [ 1]\n",
      " [ 7]\n",
      " [ 9]\n",
      " [ 3]]\n",
      "x test [[5]\n",
      " [2]\n",
      " [6]]\n",
      "y train [19 24 16  1 14 13 14]\n",
      "y test [18 12 22]\n"
     ]
    }
   ],
   "source": [
    "print(\"x train\",x_train)\n",
    "print(\"x test\",x_test)\n",
    "print(\"y train\",y_train)\n",
    "print(\"y test\",y_test)"
   ]
  },
  {
   "cell_type": "code",
   "execution_count": 10,
   "id": "bf426e2a",
   "metadata": {},
   "outputs": [
    {
     "data": {
      "text/plain": [
       "<matplotlib.collections.PathCollection at 0x20d9222f610>"
      ]
     },
     "execution_count": 10,
     "metadata": {},
     "output_type": "execute_result"
    },
    {
     "data": {
      "image/png": "[encoded data removed]",
      "text/plain": [
       "<Figure size 432x288 with 1 Axes>"
      ]
     },
     "metadata": {
      "needs_background": "light"
     },
     "output_type": "display_data"
    }
   ],
   "source": [
    "plt.scatter(x,y)"
   ]
  },
  {
   "cell_type": "code",
   "execution_count": 5,
   "id": "d43dc1e2",
   "metadata": {},
   "outputs": [],
   "source": [
    "x_new=np.array([10,20,30,40,50]).reshape(-1,1)\n",
    "y_new=model.predict(x_new)"
   ]
  },
  {
   "cell_type": "code",
   "execution_count": 7,
   "id": "355f99c0",
   "metadata": {},
   "outputs": [
    {
     "name": "stdout",
     "output_type": "stream",
     "text": [
      "new data predict score: 1.0\n",
      "Train data score: 0.4743987806254941\n",
      "Test data score: -0.8470236778922087\n"
     ]
    }
   ],
   "source": [
    "print(\"new data predict score:\",model.score(x_new,y_new))\n",
    "print(\"Train data score:\",model.score(x_train,y_train))\n",
    "print(\"Test data score:\",model.score(x_test,y_test))"
   ]
  },
  {
   "cell_type": "code",
   "execution_count": null,
   "id": "d41b2ab9",
   "metadata": {},
   "outputs": [],
   "source": []
  }
 ],
 "metadata": {
  "kernelspec": {
   "display_name": "Python 3 (ipykernel)",
   "language": "python",
   "name": "python3"
  },
  "language_info": {
   "codemirror_mode": {
    "name": "ipython",
    "version": 3
   },
   "file_extension": ".py",
   "mimetype": "text/x-python",
   "name": "python",
   "nbconvert_exporter": "python",
   "pygments_lexer": "ipython3",
   "version": "3.9.7"
  }
 },
 "nbformat": 4,
 "nbformat_minor": 5
}
