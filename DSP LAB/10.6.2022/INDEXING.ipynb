{
 "cells": [
  {
   "cell_type": "markdown",
   "id": "c8fd11ea",
   "metadata": {},
   "source": [
    "# string:Indexing"
   ]
  },
  {
   "cell_type": "code",
   "execution_count": 1,
   "id": "8d77b0fa",
   "metadata": {},
   "outputs": [],
   "source": [
    "string1=\"datascience\""
   ]
  },
  {
   "cell_type": "code",
   "execution_count": 2,
   "id": "d3452703",
   "metadata": {},
   "outputs": [
    {
     "data": {
      "text/plain": [
       "2"
      ]
     },
     "execution_count": 2,
     "metadata": {},
     "output_type": "execute_result"
    }
   ],
   "source": [
    "string1.index(\"t\")"
   ]
  },
  {
   "cell_type": "code",
   "execution_count": 3,
   "id": "ccc3fbae",
   "metadata": {},
   "outputs": [
    {
     "data": {
      "text/plain": [
       "4"
      ]
     },
     "execution_count": 3,
     "metadata": {},
     "output_type": "execute_result"
    }
   ],
   "source": [
    "string1.index(\"sci\")"
   ]
  },
  {
   "cell_type": "code",
   "execution_count": 4,
   "id": "b4be0a16",
   "metadata": {},
   "outputs": [
    {
     "data": {
      "text/plain": [
       "'c'"
      ]
     },
     "execution_count": 4,
     "metadata": {},
     "output_type": "execute_result"
    }
   ],
   "source": [
    "string1[5]"
   ]
  },
  {
   "cell_type": "code",
   "execution_count": 5,
   "id": "54c12cd3",
   "metadata": {},
   "outputs": [
    {
     "data": {
      "text/plain": [
       "'c'"
      ]
     },
     "execution_count": 5,
     "metadata": {},
     "output_type": "execute_result"
    }
   ],
   "source": [
    "string1[-2]"
   ]
  },
  {
   "cell_type": "markdown",
   "id": "32b7e4c1",
   "metadata": {},
   "source": [
    "# list:indexing"
   ]
  },
  {
   "cell_type": "markdown",
   "id": "d8619b3b",
   "metadata": {},
   "source": [
    "## syntax: list_name.index(element,start,end)"
   ]
  },
  {
   "cell_type": "code",
   "execution_count": 6,
   "id": "4987a057",
   "metadata": {},
   "outputs": [],
   "source": [
    "list1=[1,2,\"g\",\"gaja\",5]"
   ]
  },
  {
   "cell_type": "code",
   "execution_count": 7,
   "id": "36847b17",
   "metadata": {},
   "outputs": [
    {
     "data": {
      "text/plain": [
       "3"
      ]
     },
     "execution_count": 7,
     "metadata": {},
     "output_type": "execute_result"
    }
   ],
   "source": [
    "list1.index(\"gaja\")"
   ]
  },
  {
   "cell_type": "code",
   "execution_count": 8,
   "id": "c7f7418d",
   "metadata": {},
   "outputs": [
    {
     "data": {
      "text/plain": [
       "5"
      ]
     },
     "execution_count": 8,
     "metadata": {},
     "output_type": "execute_result"
    }
   ],
   "source": [
    "list1[4]"
   ]
  },
  {
   "cell_type": "code",
   "execution_count": 9,
   "id": "dfb027fe",
   "metadata": {},
   "outputs": [
    {
     "data": {
      "text/plain": [
       "'gaja'"
      ]
     },
     "execution_count": 9,
     "metadata": {},
     "output_type": "execute_result"
    }
   ],
   "source": [
    "list1[-2]"
   ]
  },
  {
   "cell_type": "markdown",
   "id": "6942c48a",
   "metadata": {},
   "source": [
    "# array:indexing"
   ]
  },
  {
   "cell_type": "code",
   "execution_count": 10,
   "id": "8b17986e",
   "metadata": {},
   "outputs": [],
   "source": [
    "from array import *"
   ]
  },
  {
   "cell_type": "code",
   "execution_count": 11,
   "id": "def396de",
   "metadata": {},
   "outputs": [
    {
     "name": "stdout",
     "output_type": "stream",
     "text": [
      "1\n",
      "2\n",
      "3\n"
     ]
    }
   ],
   "source": [
    "arrsample=array(\"b\",[1,2,3])\n",
    "for x in arrsample: print(x)"
   ]
  },
  {
   "cell_type": "code",
   "execution_count": 12,
   "id": "da166cbe",
   "metadata": {},
   "outputs": [
    {
     "data": {
      "text/plain": [
       "2"
      ]
     },
     "execution_count": 12,
     "metadata": {},
     "output_type": "execute_result"
    }
   ],
   "source": [
    "arrsample[-2]"
   ]
  },
  {
   "cell_type": "markdown",
   "id": "4d436b0f",
   "metadata": {},
   "source": [
    "# tuple:indexing"
   ]
  },
  {
   "cell_type": "code",
   "execution_count": 13,
   "id": "0390bab1",
   "metadata": {},
   "outputs": [
    {
     "data": {
      "text/plain": [
       "(1, 2, 3, 4, 5, 'gaja')"
      ]
     },
     "execution_count": 13,
     "metadata": {},
     "output_type": "execute_result"
    }
   ],
   "source": [
    "tuple1=(1,2,3,4,5,\"gaja\")\n",
    "tuple1"
   ]
  },
  {
   "cell_type": "code",
   "execution_count": 14,
   "id": "b270957f",
   "metadata": {},
   "outputs": [
    {
     "data": {
      "text/plain": [
       "3"
      ]
     },
     "execution_count": 14,
     "metadata": {},
     "output_type": "execute_result"
    }
   ],
   "source": [
    "tuple1.index(4)"
   ]
  },
  {
   "cell_type": "code",
   "execution_count": 15,
   "id": "8d6218f9",
   "metadata": {},
   "outputs": [
    {
     "data": {
      "text/plain": [
       "'gaja'"
      ]
     },
     "execution_count": 15,
     "metadata": {},
     "output_type": "execute_result"
    }
   ],
   "source": [
    "tuple1[5]"
   ]
  },
  {
   "cell_type": "markdown",
   "id": "24cb4414",
   "metadata": {},
   "source": [
    "# set:indexing "
   ]
  },
  {
   "cell_type": "code",
   "execution_count": 16,
   "id": "8dbfa803",
   "metadata": {},
   "outputs": [
    {
     "ename": "TypeError",
     "evalue": "'set' object is not callable",
     "output_type": "error",
     "traceback": [
      "\u001b[1;31m---------------------------------------------------------------------------\u001b[0m",
      "\u001b[1;31mTypeError\u001b[0m                                 Traceback (most recent call last)",
      "\u001b[1;32mC:\\Users\\GAJALA~1\\AppData\\Local\\Temp/ipykernel_9212/940306451.py\u001b[0m in \u001b[0;36m<module>\u001b[1;34m\u001b[0m\n\u001b[0;32m      1\u001b[0m \u001b[0msetsample\u001b[0m\u001b[1;33m=\u001b[0m\u001b[1;33m{\u001b[0m\u001b[1;34m\"gaja\"\u001b[0m\u001b[1;33m,\u001b[0m\u001b[1;36m75\u001b[0m\u001b[1;33m,\u001b[0m\u001b[1;36m77\u001b[0m\u001b[1;33m,\u001b[0m\u001b[1;34m\"python\"\u001b[0m\u001b[1;33m}\u001b[0m\u001b[1;33m\u001b[0m\u001b[1;33m\u001b[0m\u001b[0m\n\u001b[1;32m----> 2\u001b[1;33m \u001b[0msetsample\u001b[0m\u001b[1;33m(\u001b[0m\u001b[1;34m\"gaja\"\u001b[0m\u001b[1;33m)\u001b[0m\u001b[1;33m\u001b[0m\u001b[1;33m\u001b[0m\u001b[0m\n\u001b[0m",
      "\u001b[1;31mTypeError\u001b[0m: 'set' object is not callable"
     ]
    }
   ],
   "source": [
    "setsample={\"gaja\",75,77,\"python\"}\n",
    "setsample(\"gaja\")"
   ]
  },
  {
   "cell_type": "markdown",
   "id": "60f65613",
   "metadata": {},
   "source": [
    "#  Dictionary:indexing"
   ]
  },
  {
   "cell_type": "code",
   "execution_count": null,
   "id": "13fb1277",
   "metadata": {},
   "outputs": [],
   "source": [
    "dictsample={1:\"apple\",\"mango\":2,3:\"grapes\"}"
   ]
  },
  {
   "cell_type": "code",
   "execution_count": 17,
   "id": "c22addc4",
   "metadata": {},
   "outputs": [
    {
     "ename": "NameError",
     "evalue": "name 'dictsample' is not defined",
     "output_type": "error",
     "traceback": [
      "\u001b[1;31m---------------------------------------------------------------------------\u001b[0m",
      "\u001b[1;31mNameError\u001b[0m                                 Traceback (most recent call last)",
      "\u001b[1;32mC:\\Users\\GAJALA~1\\AppData\\Local\\Temp/ipykernel_9212/2834139941.py\u001b[0m in \u001b[0;36m<module>\u001b[1;34m\u001b[0m\n\u001b[1;32m----> 1\u001b[1;33m \u001b[0mdictsample\u001b[0m\u001b[1;33m\u001b[0m\u001b[1;33m\u001b[0m\u001b[0m\n\u001b[0m",
      "\u001b[1;31mNameError\u001b[0m: name 'dictsample' is not defined"
     ]
    }
   ],
   "source": [
    "dictsample"
   ]
  },
  {
   "cell_type": "code",
   "execution_count": 18,
   "id": "33f53333",
   "metadata": {},
   "outputs": [
    {
     "ename": "NameError",
     "evalue": "name 'dictsample' is not defined",
     "output_type": "error",
     "traceback": [
      "\u001b[1;31m---------------------------------------------------------------------------\u001b[0m",
      "\u001b[1;31mNameError\u001b[0m                                 Traceback (most recent call last)",
      "\u001b[1;32mC:\\Users\\GAJALA~1\\AppData\\Local\\Temp/ipykernel_9212/472423530.py\u001b[0m in \u001b[0;36m<module>\u001b[1;34m\u001b[0m\n\u001b[1;32m----> 1\u001b[1;33m \u001b[0mdictsample\u001b[0m\u001b[1;33m[\u001b[0m\u001b[1;36m2\u001b[0m\u001b[1;33m]\u001b[0m\u001b[1;33m\u001b[0m\u001b[1;33m\u001b[0m\u001b[0m\n\u001b[0m",
      "\u001b[1;31mNameError\u001b[0m: name 'dictsample' is not defined"
     ]
    }
   ],
   "source": [
    "dictsample[2]"
   ]
  },
  {
   "cell_type": "code",
   "execution_count": 19,
   "id": "23cfa492",
   "metadata": {},
   "outputs": [
    {
     "ename": "NameError",
     "evalue": "name 'dictsample' is not defined",
     "output_type": "error",
     "traceback": [
      "\u001b[1;31m---------------------------------------------------------------------------\u001b[0m",
      "\u001b[1;31mNameError\u001b[0m                                 Traceback (most recent call last)",
      "\u001b[1;32mC:\\Users\\GAJALA~1\\AppData\\Local\\Temp/ipykernel_9212/1725751569.py\u001b[0m in \u001b[0;36m<module>\u001b[1;34m\u001b[0m\n\u001b[1;32m----> 1\u001b[1;33m \u001b[0mdictsample\u001b[0m\u001b[1;33m[\u001b[0m\u001b[1;36m1\u001b[0m\u001b[1;33m]\u001b[0m\u001b[1;33m\u001b[0m\u001b[1;33m\u001b[0m\u001b[0m\n\u001b[0m",
      "\u001b[1;31mNameError\u001b[0m: name 'dictsample' is not defined"
     ]
    }
   ],
   "source": [
    "dictsample[1]"
   ]
  },
  {
   "cell_type": "code",
   "execution_count": 20,
   "id": "dd41bb83",
   "metadata": {},
   "outputs": [
    {
     "ename": "NameError",
     "evalue": "name 'dictsample' is not defined",
     "output_type": "error",
     "traceback": [
      "\u001b[1;31m---------------------------------------------------------------------------\u001b[0m",
      "\u001b[1;31mNameError\u001b[0m                                 Traceback (most recent call last)",
      "\u001b[1;32mC:\\Users\\GAJALA~1\\AppData\\Local\\Temp/ipykernel_9212/1530314008.py\u001b[0m in \u001b[0;36m<module>\u001b[1;34m\u001b[0m\n\u001b[1;32m----> 1\u001b[1;33m \u001b[0mdictsample\u001b[0m\u001b[1;33m[\u001b[0m\u001b[1;34m\"mango\"\u001b[0m\u001b[1;33m]\u001b[0m\u001b[1;33m\u001b[0m\u001b[1;33m\u001b[0m\u001b[0m\n\u001b[0m",
      "\u001b[1;31mNameError\u001b[0m: name 'dictsample' is not defined"
     ]
    }
   ],
   "source": [
    "dictsample[\"mango\"]"
   ]
  },
  {
   "cell_type": "markdown",
   "id": "c0bcfb7d",
   "metadata": {},
   "source": [
    "# Range:indexing"
   ]
  },
  {
   "cell_type": "code",
   "execution_count": 21,
   "id": "8d336154",
   "metadata": {},
   "outputs": [
    {
     "name": "stdout",
     "output_type": "stream",
     "text": [
      "1\n",
      "5\n",
      "9\n"
     ]
    }
   ],
   "source": [
    "rangesample=range(1,12,4)\n",
    "for x in rangesample: print(x)"
   ]
  },
  {
   "cell_type": "code",
   "execution_count": 22,
   "id": "a89903ee",
   "metadata": {},
   "outputs": [
    {
     "ename": "ValueError",
     "evalue": "0 is not in range",
     "output_type": "error",
     "traceback": [
      "\u001b[1;31m---------------------------------------------------------------------------\u001b[0m",
      "\u001b[1;31mValueError\u001b[0m                                Traceback (most recent call last)",
      "\u001b[1;32mC:\\Users\\GAJALA~1\\AppData\\Local\\Temp/ipykernel_9212/971379677.py\u001b[0m in \u001b[0;36m<module>\u001b[1;34m\u001b[0m\n\u001b[1;32m----> 1\u001b[1;33m \u001b[0mrangesample\u001b[0m\u001b[1;33m.\u001b[0m\u001b[0mindex\u001b[0m\u001b[1;33m(\u001b[0m\u001b[1;36m0\u001b[0m\u001b[1;33m)\u001b[0m\u001b[1;33m\u001b[0m\u001b[1;33m\u001b[0m\u001b[0m\n\u001b[0m",
      "\u001b[1;31mValueError\u001b[0m: 0 is not in range"
     ]
    }
   ],
   "source": [
    "rangesample.index(0)"
   ]
  },
  {
   "cell_type": "code",
   "execution_count": 23,
   "id": "7e121389",
   "metadata": {},
   "outputs": [
    {
     "data": {
      "text/plain": [
       "2"
      ]
     },
     "execution_count": 23,
     "metadata": {},
     "output_type": "execute_result"
    }
   ],
   "source": [
    "rangesample.index(9)"
   ]
  },
  {
   "cell_type": "code",
   "execution_count": 24,
   "id": "1fdfa5a5",
   "metadata": {},
   "outputs": [
    {
     "data": {
      "text/plain": [
       "0"
      ]
     },
     "execution_count": 24,
     "metadata": {},
     "output_type": "execute_result"
    }
   ],
   "source": [
    "rangesample.index(1)"
   ]
  },
  {
   "cell_type": "code",
   "execution_count": 25,
   "id": "266f329f",
   "metadata": {},
   "outputs": [
    {
     "data": {
      "text/plain": [
       "5"
      ]
     },
     "execution_count": 25,
     "metadata": {},
     "output_type": "execute_result"
    }
   ],
   "source": [
    "rangesample[1]"
   ]
  },
  {
   "cell_type": "code",
   "execution_count": 26,
   "id": "3a0662fc",
   "metadata": {},
   "outputs": [
    {
     "data": {
      "text/plain": [
       "1"
      ]
     },
     "execution_count": 26,
     "metadata": {},
     "output_type": "execute_result"
    }
   ],
   "source": [
    "rangesample[0]"
   ]
  },
  {
   "cell_type": "code",
   "execution_count": 27,
   "id": "6994399a",
   "metadata": {},
   "outputs": [
    {
     "ename": "IndexError",
     "evalue": "range object index out of range",
     "output_type": "error",
     "traceback": [
      "\u001b[1;31m---------------------------------------------------------------------------\u001b[0m",
      "\u001b[1;31mIndexError\u001b[0m                                Traceback (most recent call last)",
      "\u001b[1;32mC:\\Users\\GAJALA~1\\AppData\\Local\\Temp/ipykernel_9212/2425506950.py\u001b[0m in \u001b[0;36m<module>\u001b[1;34m\u001b[0m\n\u001b[1;32m----> 1\u001b[1;33m \u001b[0mrangesample\u001b[0m\u001b[1;33m[\u001b[0m\u001b[1;36m9\u001b[0m\u001b[1;33m]\u001b[0m\u001b[1;33m\u001b[0m\u001b[1;33m\u001b[0m\u001b[0m\n\u001b[0m",
      "\u001b[1;31mIndexError\u001b[0m: range object index out of range"
     ]
    }
   ],
   "source": [
    "rangesample[9]"
   ]
  },
  {
   "cell_type": "markdown",
   "id": "df079684",
   "metadata": {},
   "source": [
    "# sequence data operations:slicing"
   ]
  },
  {
   "cell_type": "code",
   "execution_count": 28,
   "id": "b120366d",
   "metadata": {},
   "outputs": [
    {
     "name": "stdout",
     "output_type": "stream",
     "text": [
      "datascience\n"
     ]
    },
    {
     "data": {
      "text/plain": [
       "'aa'"
      ]
     },
     "execution_count": 28,
     "metadata": {},
     "output_type": "execute_result"
    }
   ],
   "source": [
    "string1=\"datascience\"\n",
    "print(string1)\n",
    "string1[slice(1,4,2)]\n"
   ]
  },
  {
   "cell_type": "code",
   "execution_count": 29,
   "id": "6c0a0373",
   "metadata": {},
   "outputs": [
    {
     "data": {
      "text/plain": [
       "'datascience'"
      ]
     },
     "execution_count": 29,
     "metadata": {},
     "output_type": "execute_result"
    }
   ],
   "source": [
    "string1[:]"
   ]
  },
  {
   "cell_type": "code",
   "execution_count": 30,
   "id": "88a74760",
   "metadata": {
    "scrolled": true
   },
   "outputs": [
    {
     "name": "stdout",
     "output_type": "stream",
     "text": [
      "[1, 2, 'g', 'gaja', 5]\n",
      "[2, 'g', 'gaja']\n",
      "['gaja', 5]\n",
      "[5]\n"
     ]
    }
   ],
   "source": [
    "list1=[1,2,\"g\",\"gaja\",5]\n",
    "print(list1)\n",
    "print(list1[1:4])\n",
    "print(list1[3:])\n",
    "print(list1[-1:])"
   ]
  },
  {
   "cell_type": "code",
   "execution_count": 31,
   "id": "1c063d9d",
   "metadata": {},
   "outputs": [
    {
     "data": {
      "text/plain": [
       "[2, 'g']"
      ]
     },
     "execution_count": 31,
     "metadata": {},
     "output_type": "execute_result"
    }
   ],
   "source": [
    "list1[1:3]"
   ]
  },
  {
   "cell_type": "code",
   "execution_count": 32,
   "id": "d9ad7e8c",
   "metadata": {},
   "outputs": [
    {
     "ename": "TypeError",
     "evalue": "unhashable type: 'slice'",
     "output_type": "error",
     "traceback": [
      "\u001b[1;31m---------------------------------------------------------------------------\u001b[0m",
      "\u001b[1;31mTypeError\u001b[0m                                 Traceback (most recent call last)",
      "\u001b[1;32mC:\\Users\\GAJALA~1\\AppData\\Local\\Temp/ipykernel_9212/1018528961.py\u001b[0m in \u001b[0;36m<module>\u001b[1;34m\u001b[0m\n\u001b[0;32m      1\u001b[0m \u001b[0mdictsample\u001b[0m\u001b[1;33m=\u001b[0m\u001b[1;33m{\u001b[0m\u001b[1;36m1\u001b[0m\u001b[1;33m:\u001b[0m\u001b[1;34m\"apple\"\u001b[0m\u001b[1;33m,\u001b[0m\u001b[1;34m\"mango\"\u001b[0m\u001b[1;33m:\u001b[0m\u001b[1;36m2\u001b[0m\u001b[1;33m,\u001b[0m\u001b[1;36m3\u001b[0m\u001b[1;33m:\u001b[0m\u001b[1;34m\"grapes\"\u001b[0m\u001b[1;33m}\u001b[0m\u001b[1;33m\u001b[0m\u001b[1;33m\u001b[0m\u001b[0m\n\u001b[1;32m----> 2\u001b[1;33m \u001b[0mdictsample\u001b[0m\u001b[1;33m[\u001b[0m\u001b[1;36m1\u001b[0m\u001b[1;33m:\u001b[0m\u001b[1;34m\"apple\"\u001b[0m\u001b[1;33m]\u001b[0m\u001b[1;33m\u001b[0m\u001b[1;33m\u001b[0m\u001b[0m\n\u001b[0m",
      "\u001b[1;31mTypeError\u001b[0m: unhashable type: 'slice'"
     ]
    }
   ],
   "source": [
    "dictsample={1:\"apple\",\"mango\":2,3:\"grapes\"}\n",
    "dictsample[1:\"apple\"]"
   ]
  },
  {
   "cell_type": "code",
   "execution_count": 33,
   "id": "78929eae",
   "metadata": {},
   "outputs": [
    {
     "ename": "TypeError",
     "evalue": "'set' object is not subscriptable",
     "output_type": "error",
     "traceback": [
      "\u001b[1;31m---------------------------------------------------------------------------\u001b[0m",
      "\u001b[1;31mTypeError\u001b[0m                                 Traceback (most recent call last)",
      "\u001b[1;32mC:\\Users\\GAJALA~1\\AppData\\Local\\Temp/ipykernel_9212/721848254.py\u001b[0m in \u001b[0;36m<module>\u001b[1;34m\u001b[0m\n\u001b[0;32m      1\u001b[0m \u001b[0msetsample\u001b[0m\u001b[1;33m=\u001b[0m\u001b[1;33m{\u001b[0m\u001b[1;34m\"gaja\"\u001b[0m\u001b[1;33m,\u001b[0m\u001b[1;36m75\u001b[0m\u001b[1;33m,\u001b[0m\u001b[1;36m77\u001b[0m\u001b[1;33m,\u001b[0m\u001b[1;34m\"python\"\u001b[0m\u001b[1;33m}\u001b[0m\u001b[1;33m\u001b[0m\u001b[1;33m\u001b[0m\u001b[0m\n\u001b[1;32m----> 2\u001b[1;33m \u001b[0msetsample\u001b[0m\u001b[1;33m[\u001b[0m\u001b[1;36m1\u001b[0m\u001b[1;33m:\u001b[0m\u001b[1;36m2\u001b[0m\u001b[1;33m]\u001b[0m\u001b[1;33m\u001b[0m\u001b[1;33m\u001b[0m\u001b[0m\n\u001b[0m",
      "\u001b[1;31mTypeError\u001b[0m: 'set' object is not subscriptable"
     ]
    }
   ],
   "source": [
    "setsample={\"gaja\",75,77,\"python\"}\n",
    "setsample[1:2]"
   ]
  },
  {
   "cell_type": "code",
   "execution_count": 34,
   "id": "54931146",
   "metadata": {},
   "outputs": [
    {
     "name": "stdout",
     "output_type": "stream",
     "text": [
      "1\n",
      "2\n",
      "3\n"
     ]
    }
   ],
   "source": [
    "from array import *\n",
    "arrsample=array(\"b\",[1,2,3])\n",
    "for x in arrsample: print(x)"
   ]
  },
  {
   "cell_type": "code",
   "execution_count": 35,
   "id": "c461aa1f",
   "metadata": {},
   "outputs": [
    {
     "data": {
      "text/plain": [
       "array('b', [3])"
      ]
     },
     "execution_count": 35,
     "metadata": {},
     "output_type": "execute_result"
    }
   ],
   "source": [
    "arrsample[2:]"
   ]
  },
  {
   "cell_type": "code",
   "execution_count": 36,
   "id": "b3e1ac83",
   "metadata": {},
   "outputs": [
    {
     "data": {
      "text/plain": [
       "array('b', [2])"
      ]
     },
     "execution_count": 36,
     "metadata": {},
     "output_type": "execute_result"
    }
   ],
   "source": [
    "arrsample[1:-1]"
   ]
  },
  {
   "cell_type": "code",
   "execution_count": 37,
   "id": "88946d56",
   "metadata": {},
   "outputs": [
    {
     "name": "stdout",
     "output_type": "stream",
     "text": [
      "1\n",
      "3\n",
      "5\n",
      "7\n",
      "9\n",
      "range(1, 11, 2)\n"
     ]
    }
   ],
   "source": [
    "rangesample=range(1,10,2)\n",
    "for x in rangesample: print(x)\n",
    "\n",
    "print(rangesample[:])"
   ]
  },
  {
   "cell_type": "markdown",
   "id": "6f970791",
   "metadata": {},
   "source": [
    "#  sequence data operatioms:concatenation\n"
   ]
  },
  {
   "cell_type": "markdown",
   "id": "e54b989b",
   "metadata": {},
   "source": [
    "## syntax:',','+','+='"
   ]
  },
  {
   "cell_type": "code",
   "execution_count": 38,
   "id": "0421cad0",
   "metadata": {},
   "outputs": [
    {
     "name": "stdout",
     "output_type": "stream",
     "text": [
      "datascience  for python\n",
      "datascience\n",
      "('datascience ', 'for python')\n"
     ]
    }
   ],
   "source": [
    "print(string1+' ',\"for python\")\n",
    "print(string1)\n",
    "newstring=string1+' ',\"for python\"\n",
    "print(newstring)"
   ]
  },
  {
   "cell_type": "code",
   "execution_count": 39,
   "id": "90167b87",
   "metadata": {},
   "outputs": [
    {
     "name": "stdout",
     "output_type": "stream",
     "text": [
      "[1, 2, 'g', 'gaja', 5]\n"
     ]
    },
    {
     "data": {
      "text/plain": [
       "[1, 2, 'g', 'gaja', 5, 'lucky']"
      ]
     },
     "execution_count": 39,
     "metadata": {},
     "output_type": "execute_result"
    }
   ],
   "source": [
    "print(list1)\n",
    "list1+[\"lucky\"]"
   ]
  },
  {
   "cell_type": "code",
   "execution_count": 40,
   "id": "5ce20561",
   "metadata": {},
   "outputs": [
    {
     "name": "stdout",
     "output_type": "stream",
     "text": [
      "array('b', [1, 2, 3])\n"
     ]
    },
    {
     "ename": "TypeError",
     "evalue": "can only append array (not \"list\") to array",
     "output_type": "error",
     "traceback": [
      "\u001b[1;31m---------------------------------------------------------------------------\u001b[0m",
      "\u001b[1;31mTypeError\u001b[0m                                 Traceback (most recent call last)",
      "\u001b[1;32mC:\\Users\\GAJALA~1\\AppData\\Local\\Temp/ipykernel_9212/223250760.py\u001b[0m in \u001b[0;36m<module>\u001b[1;34m\u001b[0m\n\u001b[0;32m      1\u001b[0m \u001b[0mprint\u001b[0m\u001b[1;33m(\u001b[0m\u001b[0marrsample\u001b[0m\u001b[1;33m)\u001b[0m\u001b[1;33m\u001b[0m\u001b[1;33m\u001b[0m\u001b[0m\n\u001b[1;32m----> 2\u001b[1;33m \u001b[0marrsample\u001b[0m\u001b[1;33m+\u001b[0m\u001b[1;33m[\u001b[0m\u001b[1;36m20\u001b[0m\u001b[1;33m,\u001b[0m\u001b[1;36m30\u001b[0m\u001b[1;33m]\u001b[0m\u001b[1;33m\u001b[0m\u001b[1;33m\u001b[0m\u001b[0m\n\u001b[0m",
      "\u001b[1;31mTypeError\u001b[0m: can only append array (not \"list\") to array"
     ]
    }
   ],
   "source": [
    "print(arrsample)\n",
    "arrsample+[20,30]"
   ]
  },
  {
   "cell_type": "code",
   "execution_count": 41,
   "id": "23b8d14d",
   "metadata": {},
   "outputs": [
    {
     "data": {
      "text/plain": [
       "array('b', [1, 2, 3, 30, 40])"
      ]
     },
     "execution_count": 41,
     "metadata": {},
     "output_type": "execute_result"
    }
   ],
   "source": [
    "arrsample+array(\"b\",[30,40])"
   ]
  },
  {
   "cell_type": "code",
   "execution_count": 42,
   "id": "f9dfcc84",
   "metadata": {},
   "outputs": [
    {
     "name": "stdout",
     "output_type": "stream",
     "text": [
      "(1, 2, 3, 4, 5, 'gaja', 'gaja', 'lakshmi')\n"
     ]
    }
   ],
   "source": [
    "tuple1=(1,2,3,4,5,\"gaja\")\n",
    "\n",
    "tuple1+=(\"gaja\",\"lakshmi\")\n",
    "\n",
    "print(tuple1)"
   ]
  },
  {
   "cell_type": "code",
   "execution_count": 43,
   "id": "a14328d5",
   "metadata": {},
   "outputs": [
    {
     "name": "stdout",
     "output_type": "stream",
     "text": [
      "{'python', 75, 77, 'gaja'}\n"
     ]
    }
   ],
   "source": [
    "print(setsample)"
   ]
  },
  {
   "cell_type": "code",
   "execution_count": 44,
   "id": "24c32ba2",
   "metadata": {},
   "outputs": [
    {
     "name": "stdout",
     "output_type": "stream",
     "text": [
      "({'python', 75, 77, 'gaja'}, 25)\n"
     ]
    }
   ],
   "source": [
    " setsample=setsample,25\n",
    "print(setsample)"
   ]
  },
  {
   "cell_type": "markdown",
   "id": "91290faf",
   "metadata": {},
   "source": [
    "# sequence data operations:multiplication"
   ]
  },
  {
   "cell_type": "markdown",
   "id": "9ca6a648",
   "metadata": {},
   "source": [
    "## syntax:object*integer"
   ]
  },
  {
   "cell_type": "code",
   "execution_count": 45,
   "id": "d372bac2",
   "metadata": {},
   "outputs": [
    {
     "name": "stdout",
     "output_type": "stream",
     "text": [
      "datasciencedatasciencedatascience\n"
     ]
    }
   ],
   "source": [
    "string1*=3\n",
    "print(string1)"
   ]
  },
  {
   "cell_type": "code",
   "execution_count": 46,
   "id": "a4bea745",
   "metadata": {},
   "outputs": [
    {
     "data": {
      "text/plain": [
       "[1, 2, 'g', 'gaja', 5, 1, 2, 'g', 'gaja', 5]"
      ]
     },
     "execution_count": 46,
     "metadata": {},
     "output_type": "execute_result"
    }
   ],
   "source": [
    "list1*2"
   ]
  },
  {
   "cell_type": "code",
   "execution_count": 47,
   "id": "054fd19a",
   "metadata": {},
   "outputs": [
    {
     "data": {
      "text/plain": [
       "'gajagaja'"
      ]
     },
     "execution_count": 47,
     "metadata": {},
     "output_type": "execute_result"
    }
   ],
   "source": [
    "list1[3]*2\n"
   ]
  },
  {
   "cell_type": "code",
   "execution_count": 48,
   "id": "037c6eb9",
   "metadata": {},
   "outputs": [
    {
     "data": {
      "text/plain": [
       "(3, 4, 5, 3, 4, 5)"
      ]
     },
     "execution_count": 48,
     "metadata": {},
     "output_type": "execute_result"
    }
   ],
   "source": [
    "  tuple1[2:5]*2"
   ]
  },
  {
   "cell_type": "code",
   "execution_count": 49,
   "id": "18156d9c",
   "metadata": {},
   "outputs": [
    {
     "data": {
      "text/plain": [
       "array('b', [1, 2, 3, 1, 2, 3, 1, 2, 3])"
      ]
     },
     "execution_count": 49,
     "metadata": {},
     "output_type": "execute_result"
    }
   ],
   "source": [
    " arrsample*3"
   ]
  },
  {
   "cell_type": "code",
   "execution_count": 50,
   "id": "54e101db",
   "metadata": {},
   "outputs": [
    {
     "ename": "TypeError",
     "evalue": "unsupported operand type(s) for *: 'range' and 'int'",
     "output_type": "error",
     "traceback": [
      "\u001b[1;31m---------------------------------------------------------------------------\u001b[0m",
      "\u001b[1;31mTypeError\u001b[0m                                 Traceback (most recent call last)",
      "\u001b[1;32mC:\\Users\\GAJALA~1\\AppData\\Local\\Temp/ipykernel_9212/3388160796.py\u001b[0m in \u001b[0;36m<module>\u001b[1;34m\u001b[0m\n\u001b[1;32m----> 1\u001b[1;33m \u001b[0mrangesample\u001b[0m\u001b[1;33m*\u001b[0m\u001b[1;36m3\u001b[0m\u001b[1;33m\u001b[0m\u001b[1;33m\u001b[0m\u001b[0m\n\u001b[0m",
      "\u001b[1;31mTypeError\u001b[0m: unsupported operand type(s) for *: 'range' and 'int'"
     ]
    }
   ],
   "source": [
    "rangesample*3"
   ]
  },
  {
   "cell_type": "code",
   "execution_count": null,
   "id": "313de39b",
   "metadata": {},
   "outputs": [],
   "source": []
  },
  {
   "cell_type": "code",
   "execution_count": null,
   "id": "3ce3f431",
   "metadata": {},
   "outputs": [],
   "source": []
  },
  {
   "cell_type": "code",
   "execution_count": null,
   "id": "3c9d4a82",
   "metadata": {},
   "outputs": [],
   "source": []
  },
  {
   "cell_type": "code",
   "execution_count": null,
   "id": "42079c80",
   "metadata": {},
   "outputs": [],
   "source": []
  },
  {
   "cell_type": "code",
   "execution_count": null,
   "id": "1cdc95ff",
   "metadata": {},
   "outputs": [],
   "source": []
  }
 ],
 "metadata": {
  "kernelspec": {
   "display_name": "Python 3 (ipykernel)",
   "language": "python",
   "name": "python3"
  },
  "language_info": {
   "codemirror_mode": {
    "name": "ipython",
    "version": 3
   },
   "file_extension": ".py",
   "mimetype": "text/x-python",
   "name": "python",
   "nbconvert_exporter": "python",
   "pygments_lexer": "ipython3",
   "version": "3.9.7"
  }
 },
 "nbformat": 4,
 "nbformat_minor": 5
}
