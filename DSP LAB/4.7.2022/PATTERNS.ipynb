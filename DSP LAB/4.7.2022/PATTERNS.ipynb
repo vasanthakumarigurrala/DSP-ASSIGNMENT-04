{
 "cells": [
  {
   "cell_type": "code",
   "execution_count": 1,
   "id": "57c6eab6",
   "metadata": {},
   "outputs": [
    {
     "name": "stdout",
     "output_type": "stream",
     "text": [
      "enter the number of rows displayed:5\n",
      "1 \n",
      "2 2 \n",
      "3 3 3 \n",
      "4 4 4 4 \n",
      "5 5 5 5 5 \n"
     ]
    }
   ],
   "source": [
    "n=int(input(\"enter the number of rows displayed:\"))\n",
    "for i in range(1,6):\n",
    "    for j in range(i):\n",
    "        print(i,end=\" \")\n",
    "    print( )"
   ]
  },
  {
   "cell_type": "code",
   "execution_count": 2,
   "id": "414b8b91",
   "metadata": {},
   "outputs": [
    {
     "name": "stdout",
     "output_type": "stream",
     "text": [
      "enter the number of rows displayed:5\n",
      "5 5 5 5 5 \n",
      "4 4 4 4 \n",
      "3 3 3 \n",
      "2 2 \n",
      "1 \n"
     ]
    }
   ],
   "source": [
    "n=int(input(\"enter the number of rows displayed:\"))\n",
    "for i in range(5,0,-1): # 5 4 3 2 1\n",
    "    for j in range(i):\n",
    "        print(i,end=\" \")\n",
    "    print( )"
   ]
  },
  {
   "cell_type": "code",
   "execution_count": 10,
   "id": "224283ce",
   "metadata": {},
   "outputs": [
    {
     "name": "stdout",
     "output_type": "stream",
     "text": [
      "enter the number of rows displayed:5\n",
      "1 \n",
      "1 2 \n",
      "1 2 3 \n",
      "1 2 3 4 \n",
      "1 2 3 4 5 \n"
     ]
    }
   ],
   "source": [
    "n=int(input(\"enter the number of rows displayed:\"))\n",
    "for i in range(1,n+1):\n",
    "    for j in range(1,i+1):\n",
    "        print(j,end=\" \")\n",
    "    print( )"
   ]
  },
  {
   "cell_type": "code",
   "execution_count": 5,
   "id": "f78b3aa3",
   "metadata": {},
   "outputs": [
    {
     "name": "stdout",
     "output_type": "stream",
     "text": [
      "enter the number of rows displayed:5\n",
      "1 2 3 4 5 \n",
      "1 2 3 4 \n",
      "1 2 3 \n",
      "1 2 \n",
      "1 \n"
     ]
    }
   ],
   "source": [
    "n=int(input(\"enter the number of rows displayed:\"))\n",
    "for i in range(n,0,-1): # 5 4 3 2 1\n",
    "    for j in range(1,i+1):\n",
    "        print(j,end=\" \")\n",
    "    print( )"
   ]
  },
  {
   "cell_type": "code",
   "execution_count": 6,
   "id": "2d94fae4",
   "metadata": {},
   "outputs": [
    {
     "name": "stdout",
     "output_type": "stream",
     "text": [
      "enter the number of rows displayed:5\n",
      "1 \n",
      "2 1 \n",
      "3 2 1 \n",
      "4 3 2 1 \n",
      "5 4 3 2 1 \n"
     ]
    }
   ],
   "source": [
    "n=int(input(\"enter the number of rows displayed:\"))\n",
    "for i in range(1,n+1):\n",
    "    for j in range(i,0,-1):\n",
    "        print(j,end=\" \")\n",
    "    print( )"
   ]
  },
  {
   "cell_type": "code",
   "execution_count": 8,
   "id": "2d45c9bb",
   "metadata": {},
   "outputs": [
    {
     "name": "stdout",
     "output_type": "stream",
     "text": [
      "enter the number of rows displayed:5\n",
      "5 4 3 2 1 \n",
      "4 3 2 1 \n",
      "3 2 1 \n",
      "2 1 \n",
      "1 \n"
     ]
    }
   ],
   "source": [
    "n=int(input(\"enter the number of rows displayed:\"))\n",
    "for i in range(5,0,-1): # 5 4 3 2 1\n",
    "    for j in range(i,0,-1):\n",
    "        print(j,end=\" \")\n",
    "    print( )"
   ]
  },
  {
   "cell_type": "code",
   "execution_count": 9,
   "id": "07ce745d",
   "metadata": {},
   "outputs": [
    {
     "name": "stdout",
     "output_type": "stream",
     "text": [
      "enter the number of rows to be displayed:5\n",
      "1 \n",
      "2 3 4 \n",
      "5 6 7 8 9 \n",
      "10 11 12 13 14 15 16 \n"
     ]
    }
   ],
   "source": [
    "n=int(input(\"enter the number of rows to be displayed:\"))\n",
    "number=1\n",
    "ele_col=1\n",
    "for i in range(1,n):\n",
    "    for ji in range(1,ele_col+1):\n",
    "        print(number,end=\" \")\n",
    "        number+=1\n",
    "    ele_col+=2\n",
    "    print( )\n"
   ]
  },
  {
   "cell_type": "code",
   "execution_count": 13,
   "id": "3c26bbaa",
   "metadata": {},
   "outputs": [
    {
     "name": "stdout",
     "output_type": "stream",
     "text": [
      "enter the number of rows displayed:5\n",
      "1 \n",
      "1 2 1 \n",
      "1 2 1 3 2 1 \n",
      "1 2 1 3 2 1 4 3 2 1 \n",
      "1 2 1 3 2 1 4 3 2 1 5 4 3 2 1 \n"
     ]
    }
   ],
   "source": [
    "n=int(input(\"enter the number of rows displayed:\"))\n",
    "for i in range(1,n+1):\n",
    "    for j in range(1,i+1):\n",
    "        print(j,end=\" \")\n",
    "        for k in range(j-1,0,-1):\n",
    "            print(k,end=\" \")\n",
    "    print( )"
   ]
  },
  {
   "cell_type": "code",
   "execution_count": 14,
   "id": "31b27def",
   "metadata": {},
   "outputs": [
    {
     "name": "stdout",
     "output_type": "stream",
     "text": [
      "        * \n",
      "      * * \n",
      "    * * * \n",
      "  * * * * \n",
      "* * * * * \n"
     ]
    }
   ],
   "source": [
    "for i in range(1,6):\n",
    "    for j in range(5,i,-1):\n",
    "        print(\" \",end=\" \")\n",
    "    for k in range(1,i+1):\n",
    "            print(\"*\",end=\" \")\n",
    "    print( )"
   ]
  },
  {
   "cell_type": "code",
   "execution_count": 15,
   "id": "1c395837",
   "metadata": {},
   "outputs": [
    {
     "name": "stdout",
     "output_type": "stream",
     "text": [
      "* * * * * \n",
      "  * * * * \n",
      "    * * * \n",
      "      * * \n",
      "        * \n"
     ]
    }
   ],
   "source": [
    "for i in range(5,0,-1):\n",
    "    for j in range(5,i,-1):\n",
    "        print(\" \",end=\" \")\n",
    "    for k in range(1,i+1):\n",
    "            print(\"*\",end=\" \")\n",
    "    print( )"
   ]
  },
  {
   "cell_type": "code",
   "execution_count": 17,
   "id": "e4389a85",
   "metadata": {},
   "outputs": [
    {
     "name": "stdout",
     "output_type": "stream",
     "text": [
      "        1 \n",
      "      1 2 \n",
      "    1 2 3 \n",
      "  1 2 3 4 \n",
      "1 2 3 4 5 \n"
     ]
    }
   ],
   "source": [
    "for i in range(1,6):\n",
    "    for j in range(5,i,-1):\n",
    "        print(\" \",end=\" \")\n",
    "    for k in range(1,i+1):\n",
    "            print(k,end=\" \")\n",
    "    print( )"
   ]
  },
  {
   "cell_type": "code",
   "execution_count": 18,
   "id": "e75b4f42",
   "metadata": {},
   "outputs": [
    {
     "name": "stdout",
     "output_type": "stream",
     "text": [
      "1 2 3 4 5 \n",
      "  1 2 3 4 \n",
      "    1 2 3 \n",
      "      1 2 \n",
      "        1 \n"
     ]
    }
   ],
   "source": [
    "for i in range(5,0,-1):\n",
    "    for j in range(5,i,-1):\n",
    "        print(\" \",end=\" \")\n",
    "    for k in range(1,i+1):\n",
    "            print(k,end=\" \")\n",
    "    print( )"
   ]
  },
  {
   "cell_type": "code",
   "execution_count": 19,
   "id": "cc007e73",
   "metadata": {},
   "outputs": [
    {
     "name": "stdout",
     "output_type": "stream",
     "text": [
      "        1 \n",
      "      2 2 \n",
      "    3 3 3 \n",
      "  4 4 4 4 \n",
      "5 5 5 5 5 \n"
     ]
    }
   ],
   "source": [
    "for i in range(1,6):\n",
    "    for j in range(5,i,-1):\n",
    "        print(\" \",end=\" \")\n",
    "    for k in range(1,i+1):\n",
    "            print(i,end=\" \")\n",
    "    print( )"
   ]
  },
  {
   "cell_type": "code",
   "execution_count": 20,
   "id": "9283ac67",
   "metadata": {},
   "outputs": [
    {
     "name": "stdout",
     "output_type": "stream",
     "text": [
      "5 5 5 5 5 \n",
      "  4 4 4 4 \n",
      "    3 3 3 \n",
      "      2 2 \n",
      "        1 \n"
     ]
    }
   ],
   "source": [
    "for i in range(5,0,-1):\n",
    "    for j in range(5,i,-1):\n",
    "        print(\" \",end=\" \")\n",
    "    for k in range(1,i+1):\n",
    "            print(i,end=\" \")\n",
    "    print( )"
   ]
  },
  {
   "cell_type": "code",
   "execution_count": null,
   "id": "2efb032b",
   "metadata": {},
   "outputs": [],
   "source": []
  }
 ],
 "metadata": {
  "kernelspec": {
   "display_name": "Python 3 (ipykernel)",
   "language": "python",
   "name": "python3"
  },
  "language_info": {
   "codemirror_mode": {
    "name": "ipython",
    "version": 3
   },
   "file_extension": ".py",
   "mimetype": "text/x-python",
   "name": "python",
   "nbconvert_exporter": "python",
   "pygments_lexer": "ipython3",
   "version": "3.9.7"
  }
 },
 "nbformat": 4,
 "nbformat_minor": 5
}
