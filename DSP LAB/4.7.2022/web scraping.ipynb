{
 "cells": [
  {
   "cell_type": "code",
   "execution_count": 6,
   "id": "74efc709",
   "metadata": {},
   "outputs": [
    {
     "ename": "UnboundLocalError",
     "evalue": "local variable 'start_quote' referenced before assignment",
     "output_type": "error",
     "traceback": [
      "\u001b[1;31m---------------------------------------------------------------------------\u001b[0m",
      "\u001b[1;31mUnboundLocalError\u001b[0m                         Traceback (most recent call last)",
      "\u001b[1;32mC:\\Users\\GAJALA~1\\AppData\\Local\\Temp/ipykernel_1928/1382257399.py\u001b[0m in \u001b[0;36m<module>\u001b[1;34m\u001b[0m\n\u001b[0;32m     10\u001b[0m     \u001b[1;32mreturn\u001b[0m \u001b[0murl\u001b[0m\u001b[1;33m,\u001b[0m\u001b[0mend_quote\u001b[0m\u001b[1;33m\u001b[0m\u001b[1;33m\u001b[0m\u001b[0m\n\u001b[0;32m     11\u001b[0m \u001b[1;32mwhile\u001b[0m \u001b[1;32mTrue\u001b[0m\u001b[1;33m:\u001b[0m\u001b[1;33m\u001b[0m\u001b[1;33m\u001b[0m\u001b[0m\n\u001b[1;32m---> 12\u001b[1;33m     \u001b[0murl\u001b[0m\u001b[1;33m,\u001b[0m\u001b[0mn\u001b[0m\u001b[1;33m=\u001b[0m\u001b[0mgetURL\u001b[0m\u001b[1;33m(\u001b[0m\u001b[0mpage\u001b[0m\u001b[1;33m)\u001b[0m\u001b[1;33m\u001b[0m\u001b[1;33m\u001b[0m\u001b[0m\n\u001b[0m\u001b[0;32m     13\u001b[0m     \u001b[0mpage\u001b[0m\u001b[1;33m=\u001b[0m\u001b[0mpage\u001b[0m\u001b[1;33m[\u001b[0m\u001b[0mn\u001b[0m\u001b[1;33m:\u001b[0m\u001b[1;33m]\u001b[0m\u001b[1;33m\u001b[0m\u001b[1;33m\u001b[0m\u001b[0m\n\u001b[0;32m     14\u001b[0m     \u001b[1;32mif\u001b[0m \u001b[0murl\u001b[0m\u001b[1;33m:\u001b[0m\u001b[1;33m\u001b[0m\u001b[1;33m\u001b[0m\u001b[0m\n",
      "\u001b[1;32mC:\\Users\\GAJALA~1\\AppData\\Local\\Temp/ipykernel_1928/1382257399.py\u001b[0m in \u001b[0;36mgetURL\u001b[1;34m(page)\u001b[0m\n\u001b[0;32m      6\u001b[0m \u001b[1;32mdef\u001b[0m \u001b[0mgetURL\u001b[0m\u001b[1;33m(\u001b[0m\u001b[0mpage\u001b[0m\u001b[1;33m)\u001b[0m\u001b[1;33m:\u001b[0m\u001b[1;33m\u001b[0m\u001b[1;33m\u001b[0m\u001b[0m\n\u001b[0;32m      7\u001b[0m     \u001b[0mstart_link\u001b[0m\u001b[1;33m=\u001b[0m\u001b[0mpage\u001b[0m\u001b[1;33m.\u001b[0m\u001b[0mfind\u001b[0m\u001b[1;33m(\u001b[0m\u001b[1;34m\"<a href\"\u001b[0m\u001b[1;33m)\u001b[0m\u001b[1;33m\u001b[0m\u001b[1;33m\u001b[0m\u001b[0m\n\u001b[1;32m----> 8\u001b[1;33m     \u001b[0mstart_quote\u001b[0m\u001b[1;33m=\u001b[0m\u001b[0mpage\u001b[0m\u001b[1;33m.\u001b[0m\u001b[0mfind\u001b[0m\u001b[1;33m(\u001b[0m\u001b[1;34m'\"\"'\u001b[0m\u001b[1;33m,\u001b[0m\u001b[0mstart_quote\u001b[0m\u001b[1;33m+\u001b[0m\u001b[1;36m1\u001b[0m\u001b[1;33m)\u001b[0m\u001b[1;33m\u001b[0m\u001b[1;33m\u001b[0m\u001b[0m\n\u001b[0m\u001b[0;32m      9\u001b[0m     \u001b[0murl\u001b[0m\u001b[1;33m=\u001b[0m\u001b[0mpage\u001b[0m\u001b[1;33m[\u001b[0m\u001b[0mstart_quote\u001b[0m\u001b[1;33m+\u001b[0m\u001b[1;36m1\u001b[0m\u001b[1;33m:\u001b[0m\u001b[0mend_quote\u001b[0m\u001b[1;33m]\u001b[0m\u001b[1;33m\u001b[0m\u001b[1;33m\u001b[0m\u001b[0m\n\u001b[0;32m     10\u001b[0m     \u001b[1;32mreturn\u001b[0m \u001b[0murl\u001b[0m\u001b[1;33m,\u001b[0m\u001b[0mend_quote\u001b[0m\u001b[1;33m\u001b[0m\u001b[1;33m\u001b[0m\u001b[0m\n",
      "\u001b[1;31mUnboundLocalError\u001b[0m: local variable 'start_quote' referenced before assignment"
     ]
    }
   ],
   "source": [
    "import urllib.request\n",
    "url='https://mail.google.com/mail/u/0/'\n",
    "resp=urllib.request.urlopen(url)\n",
    "page1=resp.read()\n",
    "page=str(page1)\n",
    "def getURL(page):\n",
    "    start_link=page.find(\"<a href\")\n",
    "    start_quote=page.find('\"\"',start_quote+1)\n",
    "    url=page[start_quote+1:end_quote]\n",
    "    return url,end_quote\n",
    "while True:\n",
    "    url,n=getURL(page)\n",
    "    page=page[n:]\n",
    "    if url:\n",
    "        print(url)\n",
    "    else:\n",
    "            break"
   ]
  },
  {
   "cell_type": "code",
   "execution_count": null,
   "id": "956bcb09",
   "metadata": {},
   "outputs": [],
   "source": [
    "import requests\n",
    "page=requests.get('https://mail.google.com/mail/u/0/')\n",
    "print(page)\n",
    "print(page.content)\n",
    "print(page.url)"
   ]
  },
  {
   "cell_type": "code",
   "execution_count": null,
   "id": "0a314436",
   "metadata": {},
   "outputs": [],
   "source": [
    "from bs4 import BeautifulSoup"
   ]
  },
  {
   "cell_type": "code",
   "execution_count": null,
   "id": "4e194c11",
   "metadata": {},
   "outputs": [],
   "source": [
    "soup=BeautifulSoup(page.content,'html.parser')\n",
    "page_title=soup.title.text\n",
    "print(page_title)"
   ]
  },
  {
   "cell_type": "code",
   "execution_count": null,
   "id": "d2b68fb4",
   "metadata": {},
   "outputs": [],
   "source": [
    "page_body=soup.body\n",
    "print(page_body)"
   ]
  },
  {
   "cell_type": "code",
   "execution_count": null,
   "id": "f60fc9b0",
   "metadata": {},
   "outputs": [],
   "source": [
    "page_head=soup.head\n",
    "print(page_head)"
   ]
  },
  {
   "cell_type": "code",
   "execution_count": null,
   "id": "810db985",
   "metadata": {},
   "outputs": [],
   "source": [
    "import requests\n",
    "from bs4 import BeautifulSoup\n",
    "import csv\n",
    "\n",
    "url="
   ]
  },
  {
   "cell_type": "code",
   "execution_count": null,
   "id": "b09d22b7",
   "metadata": {},
   "outputs": [],
   "source": [
    "print(\"\\U0001F605\")"
   ]
  },
  {
   "cell_type": "code",
   "execution_count": null,
   "id": "1f7679b4",
   "metadata": {},
   "outputs": [],
   "source": [
    "print(\"\\U0001F600\")"
   ]
  },
  {
   "cell_type": "code",
   "execution_count": null,
   "id": "f8839650",
   "metadata": {},
   "outputs": [],
   "source": [
    "print(\"\\U0001F642\")"
   ]
  },
  {
   "cell_type": "code",
   "execution_count": null,
   "id": "9aef7c13",
   "metadata": {},
   "outputs": [],
   "source": [
    "print(\"\\U0001F910\")"
   ]
  },
  {
   "cell_type": "code",
   "execution_count": 7,
   "id": "6ef9a9cd",
   "metadata": {},
   "outputs": [
    {
     "name": "stdout",
     "output_type": "stream",
     "text": [
      "😄\n"
     ]
    }
   ],
   "source": [
    "print(\"\\U0001F604\")"
   ]
  },
  {
   "cell_type": "code",
   "execution_count": 8,
   "id": "b21eab66",
   "metadata": {},
   "outputs": [
    {
     "name": "stdout",
     "output_type": "stream",
     "text": [
      "😍\n"
     ]
    }
   ],
   "source": [
    "print(\"\\U0001F60D\")"
   ]
  },
  {
   "cell_type": "code",
   "execution_count": 9,
   "id": "7ff11a2f",
   "metadata": {},
   "outputs": [
    {
     "name": "stdout",
     "output_type": "stream",
     "text": [
      "😇\n"
     ]
    }
   ],
   "source": [
    "print(\"\\U0001F607\")"
   ]
  },
  {
   "cell_type": "code",
   "execution_count": 10,
   "id": "221488dc",
   "metadata": {},
   "outputs": [
    {
     "name": "stdout",
     "output_type": "stream",
     "text": [
      "🤣\n"
     ]
    }
   ],
   "source": [
    "print(\"\\U0001F923\")"
   ]
  },
  {
   "cell_type": "code",
   "execution_count": 11,
   "id": "309354a9",
   "metadata": {},
   "outputs": [
    {
     "name": "stdout",
     "output_type": "stream",
     "text": [
      "[<div class=\"CXW8mj\" style=\"height:200px;width:200px\"><img alt=\"realme 9 5G (Meteor Black, 64 GB)\" class=\"_396cs4 _3exPp9\" src=\"https://rukminim1.flixcart.com/image/312/312/l0jwbrk0/mobile/e/f/b/-original-imagcb64e6mywt9j.jpeg?q=70\"/></div>, <div class=\"CXW8mj\" style=\"height:200px;width:200px\"><img alt=\"realme 9 5G (Supersonic Black, 128 GB)\" class=\"_396cs4 _3exPp9\" src=\"https://rukminim1.flixcart.com/image/312/312/l4fxh8w0/mobile/l/l/4/-original-imagfc56zazhvbfq.jpeg?q=70\"/></div>, <div class=\"CXW8mj\" style=\"height:200px;width:200px\"><img alt=\"realme 9 5G (Supersonic Blue, 64 GB)\" class=\"_396cs4 _3exPp9\" src=\"https://rukminim1.flixcart.com/image/312/312/l4fxh8w0/mobile/o/q/j/-original-imagfc55exgt8eey.jpeg?q=70\"/></div>, <div class=\"CXW8mj\" style=\"height:200px;width:200px\"><img alt=\"Itel Magic2 4G( WiFi,Hotspot Tethering)\" class=\"_396cs4 _3exPp9\" src=\"https://rukminim1.flixcart.com/image/312/312/kq18n0w0/mobile/r/8/e/it9210-it9210-itel-original-imag44zbp6uzwxug.jpeg?q=70\"/></div>, <div class=\"CXW8mj\" style=\"height:200px;width:200px\"><img alt=\"realme 9 5G (Supersonic Blue, 128 GB)\" class=\"_396cs4 _3exPp9\" src=\"https://rukminim1.flixcart.com/image/312/312/l4fxh8w0/mobile/o/q/j/-original-imagfc55exgt8eey.jpeg?q=70\"/></div>, <div class=\"CXW8mj\" style=\"height:200px;width:200px\"><img alt=\"realme 9 5G (Stargaze White, 64 GB)\" class=\"_396cs4 _3exPp9\" src=\"https://rukminim1.flixcart.com/image/312/312/l0jwbrk0/mobile/a/p/r/-original-imagcb64gwkhzdk5.jpeg?q=70\"/></div>, <div class=\"CXW8mj\" style=\"height:200px;width:200px\"><img alt=\"realme Narzo 50A (Oxygen Green, 64 GB)\" class=\"_396cs4 _3exPp9\" src=\"https://rukminim1.flixcart.com/image/312/312/ktx9si80/mobile/q/a/c/narzo-50a-rmx3430-realme-original-imag75kybaer8scz.jpeg?q=70\"/></div>, <div class=\"CXW8mj\" style=\"height:200px;width:200px\"><img alt=\"realme 9 5G (Meteor Black, 128 GB)\" class=\"_396cs4 _3exPp9\" src=\"https://rukminim1.flixcart.com/image/312/312/l0jwbrk0/mobile/e/f/b/-original-imagcb64e6mywt9j.jpeg?q=70\"/></div>, <div class=\"CXW8mj\" style=\"height:200px;width:200px\"><img alt=\"realme Narzo 50A (Oxygen Green, 128 GB)\" class=\"_396cs4 _3exPp9\" src=\"https://rukminim1.flixcart.com/image/312/312/ktx9si80/mobile/q/a/c/narzo-50a-rmx3430-realme-original-imag75kybaer8scz.jpeg?q=70\"/></div>, <div class=\"CXW8mj\" style=\"height:200px;width:200px\"><img alt=\"OPPO K10 (Black Carbon, 128 GB)\" class=\"_396cs4 _3exPp9\" src=\"https://rukminim1.flixcart.com/image/312/312/l2jcccw0/mobile/h/x/3/-original-imagduwqakhhkrse.jpeg?q=70\"/></div>, <div class=\"CXW8mj\" style=\"height:200px;width:200px\"><img alt=\"realme 9i (Prism Blue, 64 GB)\" class=\"_396cs4 _3exPp9\" src=\"https://rukminim1.flixcart.com/image/312/312/ky90scw0/mobile/s/5/d/-original-imagagnfgh6ed7tp.jpeg?q=70\"/></div>, <div class=\"CXW8mj\" style=\"height:200px;width:200px\"><img alt=\"realme 9i (Prism Black, 128 GB)\" class=\"_396cs4 _3exPp9\" src=\"https://rukminim1.flixcart.com/image/312/312/ky90scw0/mobile/m/r/u/-original-imagagnffruu7ptd.jpeg?q=70\"/></div>, <div class=\"CXW8mj\" style=\"height:200px;width:200px\"><img alt=\"Infinix HOT 12 Play (Horizon Blue, 64 GB)\" class=\"_396cs4 _3exPp9\" src=\"https://rukminim1.flixcart.com/image/312/312/l3dcl8w0/mobile/j/o/x/-original-imagehxy5hzshkdv.jpeg?q=70\"/></div>, <div class=\"CXW8mj\" style=\"height:200px;width:200px\"><img alt=\"realme C11 2021 (Cool Grey, 32 GB)\" class=\"_396cs4 _3exPp9\" src=\"https://rukminim1.flixcart.com/image/312/312/kqjtd3k0/mobile/s/b/8/c11-2021-rmx3231-realme-original-imag4j4xkqchhfxk.jpeg?q=70\"/></div>, <div class=\"CXW8mj\" style=\"height:200px;width:200px\"><img alt=\"realme C11 2021 (Cool Blue, 32 GB)\" class=\"_396cs4 _3exPp9\" src=\"https://rukminim1.flixcart.com/image/312/312/kqjtd3k0/mobile/o/4/x/c11-2021-rmx3231-realme-original-imag4j4yrdt7d9cj.jpeg?q=70\"/></div>, <div class=\"CXW8mj\" style=\"height:200px;width:200px\"><img alt=\"POCO C31 (Royal Blue, 64 GB)\" class=\"_396cs4 _3exPp9\" src=\"https://rukminim1.flixcart.com/image/312/312/ku4ezrk0/mobile/p/e/4/c31-mzb0a0jin-poco-original-imag7bzqxgdhgf2n.jpeg?q=70\"/></div>, <div class=\"CXW8mj\" style=\"height:200px;width:200px\"><img alt=\"Infinix HOT 12 Play (Daylight Green, 64 GB)\" class=\"_396cs4 _3exPp9\" src=\"https://rukminim1.flixcart.com/image/312/312/l3dcl8w0/mobile/c/q/t/-original-imageg2rjgezh6yf.jpeg?q=70\"/></div>, <div class=\"CXW8mj\" style=\"height:200px;width:200px\"><img alt=\"realme Narzo 50A (Oxygen Blue, 128 GB)\" class=\"_396cs4 _3exPp9\" src=\"https://rukminim1.flixcart.com/image/312/312/ktx9si80/mobile/d/n/p/narzo-50a-rmx3430-realme-original-imag75kymngzyabx.jpeg?q=70\"/></div>, <div class=\"CXW8mj\" style=\"height:200px;width:200px\"><img alt=\"realme 9i (Prism Black, 128 GB)\" class=\"_396cs4 _3exPp9\" src=\"https://rukminim1.flixcart.com/image/312/312/ky90scw0/mobile/m/r/u/-original-imagagnffruu7ptd.jpeg?q=70\"/></div>, <div class=\"CXW8mj\" style=\"height:200px;width:200px\"><img alt=\"MOTOROLA g31 (Baby Blue, 64 GB)\" class=\"_396cs4 _3exPp9\" src=\"https://rukminim1.flixcart.com/image/312/312/l1l1rww0/mobile/j/e/u/-original-imagd48zzrkcjfn2.jpeg?q=70\"/></div>, <div class=\"CXW8mj\" style=\"height:200px;width:200px\"><img alt=\"realme 9i (Prism Blue, 128 GB)\" class=\"_396cs4 _3exPp9\" src=\"https://rukminim1.flixcart.com/image/312/312/ky90scw0/mobile/s/5/d/-original-imagagnfgh6ed7tp.jpeg?q=70\"/></div>, <div class=\"CXW8mj\" style=\"height:200px;width:200px\"><img alt=\"realme 9i (Prism Black, 64 GB)\" class=\"_396cs4 _3exPp9\" src=\"https://rukminim1.flixcart.com/image/312/312/ky90scw0/mobile/m/r/u/-original-imagagnffruu7ptd.jpeg?q=70\"/></div>, <div class=\"CXW8mj\" style=\"height:200px;width:200px\"><img alt=\"REDMI 9i Sport (Metallic Blue, 64 GB)\" class=\"_396cs4 _3exPp9\" src=\"https://rukminim1.flixcart.com/image/312/312/ku04o7k0/mobile/x/x/t/9i-sport-mzb0a10in-redmi-original-imag785rwf3q8sft.jpeg?q=70\"/></div>, <div class=\"CXW8mj\" style=\"height:200px;width:200px\"><img alt=\"realme C11 2021 (Cool Blue, 64 GB)\" class=\"_396cs4 _3exPp9\" src=\"https://rukminim1.flixcart.com/image/312/312/kqjtd3k0/mobile/o/4/x/c11-2021-rmx3231-realme-original-imag4j4yrdt7d9cj.jpeg?q=70\"/></div>, <div class=\"CXW8mj\" style=\"height:150px;width:150px\"><img alt=\"OPPO K10 (Black Carbon, 128 GB)\" class=\"_396cs4\" src=\"//static-assets-web.flixcart.com/www/linchpin/fk-cp-zion/img/placeholder_fcebae.svg\"/></div>, <div class=\"CXW8mj\" style=\"height:150px;width:150px\"><img alt=\"realme C11 2021 (Cool Blue, 64 GB)\" class=\"_396cs4\" src=\"//static-assets-web.flixcart.com/www/linchpin/fk-cp-zion/img/placeholder_fcebae.svg\"/></div>, <div class=\"CXW8mj\" style=\"height:150px;width:150px\"><img alt=\"REDMI 9i Sport (Metallic Blue, 64 GB)\" class=\"_396cs4\" src=\"//static-assets-web.flixcart.com/www/linchpin/fk-cp-zion/img/placeholder_fcebae.svg\"/></div>, <div class=\"CXW8mj\" style=\"height:150px;width:150px\"><img alt=\"POCO C31 (Royal Blue, 64 GB)\" class=\"_396cs4\" src=\"//static-assets-web.flixcart.com/www/linchpin/fk-cp-zion/img/placeholder_fcebae.svg\"/></div>, <div class=\"CXW8mj\" style=\"height:150px;width:150px\"><img alt=\"Itel Magic2 4G( WiFi,Hotspot Tethering)\" class=\"_396cs4\" src=\"//static-assets-web.flixcart.com/www/linchpin/fk-cp-zion/img/placeholder_fcebae.svg\"/></div>]\n"
     ]
    }
   ],
   "source": [
    "import requests\n",
    "from bs4 import BeautifulSoup\n",
    "import csv\n",
    "import pandas as pd\n",
    "#scraping data\n",
    "url=\"https://www.flipkart.com/search?q=mobiles&sid=tyy%2C4io&as=on&as-show=on&otracker=AS_QueryStore_HistoryAutoSuggest_1_5_na_na_na&otracker1=AS_QueryStore_HistoryAutoSuggest_1_5_na_na_na&as-pos=1&as-type=HISTORY&suggestionId=mobiles%7CMobiles&requestId=e7ca28ac-333c-474c-b4d8-19ec9bff8dce&as-searchtext=mobil\"\n",
    "r=requests.get(url)\n",
    "soup=BeautifulSoup(r.content,\"html.parser\")\n",
    "titles=soup.find_all('div',class_='CXW8mj')\n",
    "print(titles)"
   ]
  },
  {
   "cell_type": "code",
   "execution_count": null,
   "id": "f0b4741b",
   "metadata": {},
   "outputs": [],
   "source": [
    "pip install instaloader"
   ]
  },
  {
   "cell_type": "code",
   "execution_count": null,
   "id": "451096be",
   "metadata": {},
   "outputs": [],
   "source": [
    "import requests\n",
    "from bs4 import BeautifulSoup\n",
    "import instaloader\n",
    "URL=\"https://www.instagram.com/{}/\"\n",
    "def parse_data(s):\n",
    "    data={}\n",
    "    s=s.split(\"-\")[0]\n",
    "    s=s.split(\" \")\n",
    "    data[\"Followers\"]=s[0]\n",
    "    data[\"Following\"]=s[2]\n",
    "    data[\"Posts\"]=s[4]\n",
    "    return data\n",
    "\n",
    "def scrape_data(username):\n",
    "    r=requests.get(URL.format(username))\n",
    "    s=BeautifulSoup(r.text,\"html.parser\")\n",
    "    meta=s.find(\"meta\",property=\"or:description\")\n",
    "    return  parse_data(meta.attrs['content'])\n",
    "\n",
    "if __name__==\"_main_\":\n",
    "    print(30*\"=\",\"Instagram\",30*\"=\")\n",
    "    username=input(\"Enter the ID:\")\n",
    "    data=scrape_data(username)\n",
    "    print()\n",
    "    print(username,\"having\",data[\"Followers\"],\"followers\")\n",
    "    print(username,\"having\",data[\"Following\"],\"following\")\n",
    "    print(username,\"having\",data[\"Posts\"],\"posts\")\n",
    "    print(65*\"=\")\n",
    "    lakshmi=instaloader.Instaloader()\n",
    "    lakshmi.download_profile(username,profile_pic_only=True)"
   ]
  },
  {
   "cell_type": "code",
   "execution_count": null,
   "id": "f9341754",
   "metadata": {},
   "outputs": [],
   "source": []
  },
  {
   "cell_type": "code",
   "execution_count": null,
   "id": "547a21a0",
   "metadata": {},
   "outputs": [],
   "source": []
  },
  {
   "cell_type": "code",
   "execution_count": null,
   "id": "a28b3fdc",
   "metadata": {},
   "outputs": [],
   "source": []
  }
 ],
 "metadata": {
  "kernelspec": {
   "display_name": "Python 3 (ipykernel)",
   "language": "python",
   "name": "python3"
  },
  "language_info": {
   "codemirror_mode": {
    "name": "ipython",
    "version": 3
   },
   "file_extension": ".py",
   "mimetype": "text/x-python",
   "name": "python",
   "nbconvert_exporter": "python",
   "pygments_lexer": "ipython3",
   "version": "3.9.7"
  }
 },
 "nbformat": 4,
 "nbformat_minor": 5
}
